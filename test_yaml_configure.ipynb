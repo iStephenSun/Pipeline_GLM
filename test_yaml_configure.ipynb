{
 "cells": [
  {
   "cell_type": "code",
   "execution_count": 9,
   "metadata": {},
   "outputs": [
    {
     "name": "stdout",
     "output_type": "stream",
     "text": [
      "Looking in indexes: https://pypi.mirrors.ustc.edu.cn/simple/\n",
      "Collecting shyaml\n",
      "  Downloading https://mirrors.tuna.tsinghua.edu.cn/pypi/web/packages/29/84/30051cc954696388d63bac118278e5c5a02d1765eed257b41b63a8b9c333/shyaml-0.6.1-py2.py3-none-any.whl\n",
      "Requirement already satisfied: pyyaml in d:\\3machinelearning\\anaconda3\\lib\\site-packages (from shyaml) (5.1.1)\n",
      "Installing collected packages: shyaml\n",
      "Successfully installed shyaml-0.6.1\n"
     ]
    },
    {
     "name": "stderr",
     "output_type": "stream",
     "text": [
      "系统找不到指定的路径。\n",
      "  WARNING: Retrying (Retry(total=4, connect=None, read=None, redirect=None, status=None)) after connection broken by 'ReadTimeoutError(\"HTTPSConnectionPool(host='mirrors.ustc.edu.cn', port=443): Read timed out. (read timeout=15)\")': /pypi/web/simple/shyaml/\n"
     ]
    }
   ],
   "source": [
    "!pip install shyaml"
   ]
  },
  {
   "cell_type": "code",
   "execution_count": 19,
   "metadata": {},
   "outputs": [
    {
     "name": "stdout",
     "output_type": "stream",
     "text": [
      "- run01\n",
      "- run02\n",
      "- run03\n"
     ]
    },
    {
     "name": "stderr",
     "output_type": "stream",
     "text": [
      "系统找不到指定的路径。\n"
     ]
    }
   ],
   "source": []
  },
  {
   "cell_type": "code",
   "execution_count": null,
   "metadata": {},
   "outputs": [],
   "source": []
  },
  {
   "cell_type": "markdown",
   "metadata": {},
   "source": [
    "###  0 Load Configuration File - Yaml\n",
    ">combine example.sh and runfile.sh"
   ]
  },
  {
   "cell_type": "code",
   "execution_count": 41,
   "metadata": {},
   "outputs": [],
   "source": [
    "from ruamel import yaml\n",
    "def LoadConfiguration():\n",
    "    fn = \"test.yaml\"\n",
    "    f = open(fn)\n",
    "    y = yaml.safe_load(f)\n",
    "#     print(y)\n",
    "    return y"
   ]
  },
  {
   "cell_type": "code",
   "execution_count": 44,
   "metadata": {},
   "outputs": [
    {
     "name": "stdout",
     "output_type": "stream",
     "text": [
      "['run01', 'run02', 'run03']\n"
     ]
    },
    {
     "name": "stderr",
     "output_type": "stream",
     "text": [
      "系统找不到指定的路径。\n"
     ]
    },
    {
     "name": "stdout",
     "output_type": "stream",
     "text": [
      "['run04', 'run05', 'run06']\n"
     ]
    },
    {
     "name": "stderr",
     "output_type": "stream",
     "text": [
      "系统找不到指定的路径。\n",
      "'preprocess_many_runs' 不是内部或外部命令，也不是可运行的程序\n",
      "或批处理文件。\n",
      "系统找不到指定的路径。\n",
      "系统找不到指定的路径。\n",
      "'preprocess_many_runs' 不是内部或外部命令，也不是可运行的程序\n",
      "或批处理文件。\n"
     ]
    }
   ],
   "source": [
    "runfile_dict = LoadConfiguration()\n",
    "expts = runfile_dict.keys()\n",
    "# print(expts)\n",
    "for i in expts:\n",
    "    expt  = i\n",
    "    print(runfile_dict[expt]['runs'])\n",
    "    ! . ./function_pipeline.sh  \n",
    "    !preprocess_many_runs 20190611_anna_Ying res_20190611_anna_Ying.s1 ../../../raw/doc/neo_Onset/20190611_onset.csv ./runfile.sh 16\n",
    "    "
   ]
  },
  {
   "cell_type": "code",
   "execution_count": 8,
   "metadata": {},
   "outputs": [
    {
     "name": "stdout",
     "output_type": "stream",
     "text": [
      "\"hello from \"\n"
     ]
    },
    {
     "name": "stderr",
     "output_type": "stream",
     "text": [
      "系统找不到指定的路径。\n"
     ]
    },
    {
     "name": "stdout",
     "output_type": "stream",
     "text": [
      "main\n"
     ]
    },
    {
     "name": "stderr",
     "output_type": "stream",
     "text": [
      "系统找不到指定的路径。\n"
     ]
    }
   ],
   "source": [
    "\n",
    "!bash ./function_pipeline.sh  \n",
    "# main\n",
    "\n",
    "\n",
    "\n",
    "#Notes:\n",
    "# bash ./function.sh ,- start a new sub bash,closed when finished\n",
    "# . ./  # == source function.sh ,- start in current bash,can do more - subfunction in function.sh\n",
    "\n",
    "# preprocess_many_runs 20190611_anna_Ying res_20190611_anna_Ying.s1 ../../../raw/doc/neo_Onset/20190611_onset.csv ./runfile.sh 16\n",
    "\n",
    "\n"
   ]
  },
  {
   "cell_type": "code",
   "execution_count": null,
   "metadata": {},
   "outputs": [],
   "source": [
    "### 2 \n",
    "> example.sh"
   ]
  }
 ],
 "metadata": {
  "kernelspec": {
   "display_name": "Python 3",
   "language": "python",
   "name": "python3"
  },
  "language_info": {
   "codemirror_mode": {
    "name": "ipython",
    "version": 3
   },
   "file_extension": ".py",
   "mimetype": "text/x-python",
   "name": "python",
   "nbconvert_exporter": "python",
   "pygments_lexer": "ipython3",
   "version": "3.7.3"
  }
 },
 "nbformat": 4,
 "nbformat_minor": 2
}
